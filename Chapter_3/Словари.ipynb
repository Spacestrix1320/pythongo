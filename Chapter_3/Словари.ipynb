{
 "cells": [
  {
   "cell_type": "code",
   "execution_count": 4,
   "metadata": {},
   "outputs": [
    {
     "name": "stdout",
     "output_type": "stream",
     "text": [
      "dict_keys(['Юпитер', 'Сатурн', 'Уран', 'Нептун', 'Земля', 'Венера', 'Марс', 'Меркурий'])\n",
      "dict_values([69911, 58232, 58232, 6371, 24622, 24622, 3390, 2440])\n",
      "[2440, 3390, 6371, 24622, 24622, 58232, 58232, 69911]\n"
     ]
    }
   ],
   "source": [
    "# Словарь в языке Python представляет собой совокупность пар «ключ-значение»\n",
    "planet = {\n",
    "    'Юпитер': 69911, \n",
    "    'Сатурн': 58232,\n",
    "    'Уран': 58232,\n",
    "    'Нептун': 6371,\n",
    "    'Земля': 24622,\n",
    "    'Венера': 24622,\n",
    "    'Марс': 3390,\n",
    "    'Меркурий': 2440,\n",
    "}\n",
    "\n",
    "print(planet.keys())\n",
    "# print(list(planet.keys()))\n",
    "print(planet.values())\n",
    "print(sorted(planet.values())) # сортировка по значению\n"
   ]
  },
  {
   "cell_type": "code",
   "execution_count": 13,
   "metadata": {},
   "outputs": [
    {
     "name": "stdout",
     "output_type": "stream",
     "text": [
      "Юпитер 69911\n",
      "Сатурн 58232\n",
      "Уран 58232\n",
      "Нептун 6371\n",
      "Земля 24622\n",
      "Венера 24622\n",
      "Марс 3390\n",
      "Меркурий 2440\n"
     ]
    }
   ],
   "source": [
    "planet = {\n",
    "    'Юпитер': 69911, \n",
    "    'Сатурн': 58232,\n",
    "    'Уран': 58232,\n",
    "    'Нептун': 6371,\n",
    "    'Земля': 24622,\n",
    "    'Венера': 24622,\n",
    "    'Марс': 3390,\n",
    "    'Меркурий': 2440,\n",
    "}\n",
    "\n",
    "copy_planet = planet.copy() # поверхностное копировие как в случае с List\n",
    "\n",
    "\n",
    "for key, value in copy_planet.items(): # цикл перебора по ключу и значению\n",
    "    print(key, value)\n"
   ]
  }
 ],
 "metadata": {
  "kernelspec": {
   "display_name": "Python 3",
   "language": "python",
   "name": "python3"
  },
  "language_info": {
   "codemirror_mode": {
    "name": "ipython",
    "version": 3
   },
   "file_extension": ".py",
   "mimetype": "text/x-python",
   "name": "python",
   "nbconvert_exporter": "python",
   "pygments_lexer": "ipython3",
   "version": "3.9.13"
  }
 },
 "nbformat": 4,
 "nbformat_minor": 2
}
