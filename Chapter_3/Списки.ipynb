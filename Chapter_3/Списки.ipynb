{
 "cells": [
  {
   "cell_type": "code",
   "execution_count": 2,
   "metadata": {},
   "outputs": [
    {
     "name": "stdout",
     "output_type": "stream",
     "text": [
      "['box', 'car', 'factory', 'worker', 1, 2, 3, 4, 5]\n"
     ]
    }
   ],
   "source": [
    "str_list = ['box', 'car', 'factory', 'worker']\n",
    "int_list = [1, 2, 3, 4, 5]\n",
    "\n",
    "#b B Объеденить списки можно просто применив оператор сложения.\n",
    "concat_list = str_list + int_list\n",
    "print(concat_list)\n",
    "# result ['box', 'car', 'factory', 'worker', 1, 2, 3, 4, 5]"
   ]
  },
  {
   "cell_type": "code",
   "execution_count": 3,
   "metadata": {},
   "outputs": [
    {
     "name": "stdout",
     "output_type": "stream",
     "text": [
      "['box', 'car', 'factory', 'worker', 'add new item']\n"
     ]
    }
   ],
   "source": [
    "# .append() - позволяет добавлять элементы в конец list\n",
    "\n",
    "str_list = ['box', 'car', 'factory', 'worker']\n",
    "str_list.append('add new item')\n",
    "print(str_list)\n",
    "# result ['box', 'car', 'factory', 'worker', 'add new item']"
   ]
  },
  {
   "cell_type": "code",
   "execution_count": 12,
   "metadata": {},
   "outputs": [
    {
     "name": "stdout",
     "output_type": "stream",
     "text": [
      "worker\n",
      "['box', 'car', 'factory']\n",
      "car\n",
      "['box', 'factory']\n"
     ]
    }
   ],
   "source": [
    "# удаление элемента с конца и возвращает его.\n",
    "\n",
    "str_list = ['box', 'car', 'factory', 'worker']\n",
    "popped = str_list.pop()\n",
    "print(popped)\n",
    "print(str_list)\n",
    "\n",
    "# удаление по индексу\n",
    "popped_firsr_elem = str_list.pop(1)\n",
    "print(popped_firsr_elem)\n",
    "\n",
    "# сортировка .sort()\n",
    "str_list.sort()\n",
    "print(str_list)\n"
   ]
  },
  {
   "cell_type": "code",
   "execution_count": 22,
   "metadata": {},
   "outputs": [
    {
     "name": "stdout",
     "output_type": "stream",
     "text": [
      "вставка элемента на определенный индекс: ['new_item', 'box', 'car', 'factory', 'worker']\n",
      "2\n"
     ]
    }
   ],
   "source": [
    "# .insert(index, item) вставка элемента на определенный индекс\n",
    "\n",
    "str_list = ['box', 'car', 'factory', 'worker']\n",
    "str_list.insert(0, 'new_item') # первый агрумент индекс, второй значение\n",
    "print(f'вставка элемента на определенный индекс: {str_list}')\n",
    "\n",
    "# .index возвращает индест определенного элемента\n",
    "print(str_list.index('car'))\n",
    "\n"
   ]
  },
  {
   "cell_type": "code",
   "execution_count": 26,
   "metadata": {},
   "outputs": [
    {
     "name": "stdout",
     "output_type": "stream",
     "text": [
      "['box', 'car', 'factory', 'worker']\n",
      "[]\n"
     ]
    }
   ],
   "source": [
    "# .copy() поверхностное копирование списка.\n",
    "str_list = ['box', 'car', 'factory', 'worker']\n",
    "copy_list = str_list.copy()\n",
    "print(copy_list)\n",
    "\n",
    "# .clear() очистка списка.\n",
    "str_list.clear()\n",
    "print(str_list)"
   ]
  },
  {
   "cell_type": "code",
   "execution_count": 16,
   "metadata": {},
   "outputs": [
    {
     "name": "stdout",
     "output_type": "stream",
     "text": [
      "['abba', 'add', 'box', 'car', 'factory', 'worker']\n"
     ]
    }
   ],
   "source": [
    "str_list = ['Box', 'Car', 'Factory', 'Worker','Abba','add']\n",
    "new_list = []\n",
    "for item in str_list:\n",
    "    new_list.append(item.lower())\n",
    "\n",
    "new_list.sort()\n",
    "print(new_list)"
   ]
  }
 ],
 "metadata": {
  "kernelspec": {
   "display_name": "Python 3",
   "language": "python",
   "name": "python3"
  },
  "language_info": {
   "codemirror_mode": {
    "name": "ipython",
    "version": 3
   },
   "file_extension": ".py",
   "mimetype": "text/x-python",
   "name": "python",
   "nbconvert_exporter": "python",
   "pygments_lexer": "ipython3",
   "version": "3.9.13"
  }
 },
 "nbformat": 4,
 "nbformat_minor": 2
}
