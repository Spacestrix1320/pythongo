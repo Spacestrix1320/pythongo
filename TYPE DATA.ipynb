{
 "cells": [
  {
   "cell_type": "code",
   "execution_count": 14,
   "metadata": {},
   "outputs": [
    {
     "data": {
      "text/plain": [
       "8"
      ]
     },
     "execution_count": 14,
     "metadata": {},
     "output_type": "execute_result"
    }
   ],
   "source": [
    "# type (2/3) float\n",
    "# type (2+2) int\n",
    "\n",
    "# round(3+1.8) округление до целого чиста\n",
    "\n",
    "# 3%2 1 отстаток от деления \n",
    "# 2**3 возведение в степень"
   ]
  },
  {
   "cell_type": "code",
   "execution_count": 17,
   "metadata": {},
   "outputs": [
    {
     "name": "stdout",
     "output_type": "stream",
     "text": [
      "20\n"
     ]
    }
   ],
   "source": [
    "x = 10\n",
    "print(x)"
   ]
  },
  {
   "cell_type": "code",
   "execution_count": 24,
   "metadata": {},
   "outputs": [],
   "source": [
    "some_str = 'hello, WORLD !'\n",
    "# print(some_str.capitalize()) - первый символ с большой буквы.\n",
    "# print(some_str.upper()) - переводит строку в верхний регистр.\n",
    "# print(some_str.lower()) - переводит строку в нижний регистр.\n",
    "# print(some_str.islower()) - проверяет вся ли строка находится в нижнем регистре.\n",
    "# print(some_str.isupper()) - проверяет вся ли строка находится в верхнем регистре.\n",
    "# print(some_str.count('l')) - кол-во вхождений определенного символа в строке. \n",
    "# print(some_str.find('!')) - индекс первого вхождения в строке.\n",
    "# print(some_str.find('l',2,5))  - может принимать 3 агрумента: 1-й искомый символ, 2-й с какого индекса, 3-й каким индексом закончить поиск.\n",
    "# print(some_str.isalnum()) - функция проверяет, все ли символы в заданной строке являются буквенно-цифровыми.\n",
    "# print(some_str.isalpha()) - возвращает True, если все символы в строке являются алфавитными. Если нет, возвращается False.\n",
    "# print(some_str.strip()== '') - проверка на пустую строку, даже если она содержит пробельные символы"
   ]
  },
  {
   "cell_type": "code",
   "execution_count": 14,
   "metadata": {},
   "outputs": [
    {
     "name": "stdout",
     "output_type": "stream",
     "text": [
      "Hello Dmitry is 2.32\n"
     ]
    }
   ],
   "source": [
    "my_name_is = 'Dmitry'\n",
    "# print('Hello {}'.format(my_name_is)) Форматирование строк\n",
    "num = 2.3213432\n",
    "# print('Some number {num:1.2f}'.format(num=num))\n",
    "# print('%.2f' % num)\n",
    "\n",
    "# print(f'Hello {my_name_is} is {num:1.2f}') - Интерполяция строк.\n"
   ]
  },
  {
   "cell_type": "code",
   "execution_count": null,
   "metadata": {},
   "outputs": [],
   "source": [
    "\n"
   ]
  }
 ],
 "metadata": {
  "kernelspec": {
   "display_name": "Python 3",
   "language": "python",
   "name": "python3"
  },
  "language_info": {
   "codemirror_mode": {
    "name": "ipython",
    "version": 3
   },
   "file_extension": ".py",
   "mimetype": "text/x-python",
   "name": "python",
   "nbconvert_exporter": "python",
   "pygments_lexer": "ipython3",
   "version": "3.11.6"
  }
 },
 "nbformat": 4,
 "nbformat_minor": 2
}
